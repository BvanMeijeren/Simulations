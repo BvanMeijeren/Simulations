{
 "cells": [
  {
   "cell_type": "code",
   "execution_count": null,
   "metadata": {},
   "outputs": [],
   "source": [
    "# Simulating natural selection\n",
    "import random as rd\n",
    "import pandas as pd\n",
    "import numpy as np\n",
    "\n",
    "class Dove:\n",
    "    def __init__(self, speed, strength):\n",
    "    self.name = name\n",
    "    self.age = age\n",
    "    \n",
    "dayNr = 1\n",
    "    \n",
    "def nextTurn:\n",
    "    dayNr =+ 1\n",
    "    food = 0\n",
    "    "
   ]
  }
 ],
 "metadata": {
  "kernelspec": {
   "display_name": "Python 3",
   "language": "python",
   "name": "python3"
  },
  "language_info": {
   "codemirror_mode": {
    "name": "ipython",
    "version": 3
   },
   "file_extension": ".py",
   "mimetype": "text/x-python",
   "name": "python",
   "nbconvert_exporter": "python",
   "pygments_lexer": "ipython3",
   "version": "3.7.4"
  }
 },
 "nbformat": 4,
 "nbformat_minor": 2
}
